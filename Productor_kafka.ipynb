{
  "cells": [
    {
      "cell_type": "code",
      "execution_count": null,
      "id": "f163d4d5",
      "metadata": {
        "id": "f163d4d5"
      },
      "outputs": [],
      "source": [
        "import requests\n",
        "import os\n",
        "import json\n",
        "import time\n",
        "from kafka import KafkaConsumer, KafkaProducer\n",
        "\n",
        "producer = KafkaProducer(bootstrap_servers='localhost:9092',api_version=(0,1,0))\n",
        "topic_name = 'iphone13'\n",
        "\n",
        
        "bearer_token = 'AAAAAAAAAAAAAAAAAAAAAOhAAAAAdFaeYbFkEjnB%2FFEbQtpAHOI6eQg%3DneHkNg9cENkXqtXvLMP3f4fUHeUHgcDRD6Ak6REKGG20tVezt4'\n",
        "\n",
        "search_url = \"https://api.twitter.com/2/tweets/search/all\"\n",
        "\n",
        
        "query_params = {'query': '#AppleEvent','tweet.fields': 'created_at,author_id','expansions':'author_id','user.fields': 'name,verified,location,profile_image_url,public_metrics,description','max_results':'10'}\n",
        "\n",
        "def bearer_oauth(r):\n",
        "\n",
        "    r.headers[\"Authorization\"] = f\"Bearer {bearer_token}\"\n",
        "    r.headers[\"User-Agent\"] = \"v2FullArchiveSearchPython\"\n",
        "    return r\n",
        "\n",
        "def connect_to_endpoint(url, params):\n",
        "    response = requests.request(\"GET\", search_url, auth=bearer_oauth, params=params)\n",
        "    print(response.status_code)\n",
        "    if response.status_code != 200:\n",
        "        raise Exception(response.status_code, response.text)\n",
        "    return response.json()\n",
        "\n",
        "def main():\n",
        "    json_response = connect_to_endpoint(search_url, query_params)\n",
        "    result = json_response[\"includes\"][\"users\"]\n",
        "    token = json_response[\"meta\"][\"next_token\"]\n",
        "    print(token)\n",
        "    print(len(result))\n",
        "    \n",
        "    for user in result:\n",
        "        print(user)\n",
        "        producer.send(topic_name, value = json.dumps(user).encode('utf-8'))\n",
        "        \n",
        "    while (token != None):\n",
        "        query_params2 = {'query': '#AppleEvent','next_token':token,'tweet.fields': 'created_at,author_id','expansions':'author_id','user.fields': 'name,verified,location,profile_image_url,public_metrics,description','max_results':'10'}\n",
        "        json_response2 = connect_to_endpoint(search_url, query_params2)\n",
        "        result2 = json_response2[\"includes\"][\"users\"]\n",
        "        token = json_response2[\"meta\"][\"next_token\"]\n",
        "        print(token)\n",
        "        print(len(result2))\n",
        "        for user in result:\n",
        "            print(user)\n",
        "            producer.send(topic_name, value = json.dumps(user).encode('utf-8'))\n",
        "        time.sleep(15)\n",
        "    \n",
        "    #print(json.dumps(result, indent=4, sort_keys=True))\n",
        "    #print(json.dumps(json_response, indent=4, sort_keys=True))"
      ]
    },
    {
      "cell_type": "code",
      "execution_count": null,
      "id": "01fb993a",
      "metadata": {
        "id": "01fb993a",
        "outputId": "4c7f40b2-2e6b-4b24-f2b1-629bd590aa02"
      },
      "outputs": [
        {
          "name": "stdout",
          "output_type": "stream",
          "text": [
            "200\n",
            "b26v89c19zqg8o3fpz2m15nayp72xtfxrksn72v73g0ot\n",
            "10\n",
            "{'description': 'bio', 'verified': False, 'public_metrics': {'followers_count': 4, 'following_count': 14, 'tweet_count': 2498, 'listed_count': 0}, 'location': 'location', 'id': '2790164646', 'name': 'Ricardo Rodriguez', 'profile_image_url': 'https://abs.twimg.com/sticky/default_profile_images/default_profile_normal.png', 'username': 'rr70026'}\n",
            "{'description': 'Go for the bag. Chelsea fc', 'verified': False, 'public_metrics': {'followers_count': 2383, 'following_count': 1501, 'tweet_count': 5080, 'listed_count': 0}, 'location': 'Uganda', 'id': '1492117502725431299', 'name': 'Scofie', 'profile_image_url': 'https://pbs.twimg.com/profile_images/1543099327094169600/4j_K2DRU_normal.jpg', 'username': 'scofie_felix'}\n",
            "{'description': '#LifeStyle blog with #NewIdeas related to #HomeDecor, #Health #Fitness and #Traveling. Also, featuring articles on #Moms, #Parenting, #Pets,#RealEstate and more', 'verified': False, 'public_metrics': {'followers_count': 69, 'following_count': 170, 'tweet_count': 675, 'listed_count': 0}, 'id': '1288511812137357312', 'name': 'SpoliaMag', 'profile_image_url': 'https://pbs.twimg.com/profile_images/1351475552134324225/GaG6vSkI_normal.jpg', 'username': 'Spoliamags'}\n",
            "{'description': 'HaPpY CluB 😀🍾', 'verified': False, 'public_metrics': {'followers_count': 524, 'following_count': 174, 'tweet_count': 485, 'listed_count': 0}, 'location': 'Planet, Earth ', 'id': '3221985066', 'name': 'Sanju O_o', 'profile_image_url': 'https://pbs.twimg.com/profile_images/869497209787731968/zihJHSaj_normal.jpg', 'username': 'hi_solanki'}\n",
            "{'description': '#seo #digitalmarketing #futuremarketing #branding #informationtechnology', 'verified': False, 'public_metrics': {'followers_count': 2074, 'following_count': 3125, 'tweet_count': 1259, 'listed_count': 15}, 'location': 'Ahmadabad City, India', 'id': '739452700895502336', 'name': 'follow back', 'profile_image_url': 'https://pbs.twimg.com/profile_images/739456390356291584/nEaVJBzH_normal.jpg', 'username': 'i_m_leon'}\n",
            "{'description': 'banter. business. basketball. badman.', 'verified': False, 'public_metrics': {'followers_count': 32, 'following_count': 93, 'tweet_count': 2067, 'listed_count': 0}, 'id': '1541797658255400969', 'name': 'Hero For Hire.', 'profile_image_url': 'https://pbs.twimg.com/profile_images/1541799701166657538/Cz8Rw54P_normal.jpg', 'username': 'wavy_NAVAJO'}\n",
            "{'description': 'Nederlands populairste Apple-website | nieuws, tips en apps | reviews, devices en prijsvergelijking | tips? redactie@iphoned.nl', 'verified': False, 'public_metrics': {'followers_count': 7731, 'following_count': 33, 'tweet_count': 25143, 'listed_count': 193}, 'location': 'Nijmegen, Nederland', 'id': '14369793', 'name': 'iPhoned.nl', 'profile_image_url': 'https://pbs.twimg.com/profile_images/829682424024068098/SjKSFIWm_normal.jpg', 'username': 'iphoned'}\n",
            "{'description': '自動ツイート多めです。', 'verified': False, 'public_metrics': {'followers_count': 7, 'following_count': 2, 'tweet_count': 2192, 'listed_count': 1}, 'id': '1504331408105680897', 'name': 'りぃ', 'profile_image_url': 'https://pbs.twimg.com/profile_images/1504339737657880576/wa5Pagna_normal.jpg', 'username': 'bestprodbot'}\n",
            "{'description': 'OSU Buckeyes forever \\n\\nupdates and follow me for all new updates about me and my life and everything else.', 'verified': False, 'public_metrics': {'followers_count': 19, 'following_count': 585, 'tweet_count': 94, 'listed_count': 0}, 'location': 'Phoenix, AZ', 'id': '1543209255624331265', 'name': 'Tyler Scott', 'profile_image_url': 'https://pbs.twimg.com/profile_images/1543210767960313856/6GkCHQfT_normal.jpg', 'username': 'ExclusiveTyler1'}\n",
            "{'description': 'Photographer and Video director AT KANGA RECORDS. \\na Ugandan Ting 🇺🇬🇺🇬\\nONLINE COMMEDIAN.\\nsome serious Manchester united spirit rotating around me.', 'verified': False, 'public_metrics': {'followers_count': 91, 'following_count': 56, 'tweet_count': 1074, 'listed_count': 0}, 'location': 'Kampala, Uganda', 'id': '1520579883210260480', 'name': \"Dibdul Longleys'\", 'profile_image_url': 'https://pbs.twimg.com/profile_images/1520581319373299712/hwG_NYkC_normal.jpg', 'username': 'Dibdul_Longleys'}\n",
            "200\n",
            "b26v89c19zqg8o3fpz2m15li54k1mdg9u70dj44ax6r25\n",
            "9\n",
            "{'description': 'bio', 'verified': False, 'public_metrics': {'followers_count': 4, 'following_count': 14, 'tweet_count': 2498, 'listed_count': 0}, 'location': 'location', 'id': '2790164646', 'name': 'Ricardo Rodriguez', 'profile_image_url': 'https://abs.twimg.com/sticky/default_profile_images/default_profile_normal.png', 'username': 'rr70026'}\n",
            "{'description': 'Go for the bag. Chelsea fc', 'verified': False, 'public_metrics': {'followers_count': 2383, 'following_count': 1501, 'tweet_count': 5080, 'listed_count': 0}, 'location': 'Uganda', 'id': '1492117502725431299', 'name': 'Scofie', 'profile_image_url': 'https://pbs.twimg.com/profile_images/1543099327094169600/4j_K2DRU_normal.jpg', 'username': 'scofie_felix'}\n",
            "{'description': '#LifeStyle blog with #NewIdeas related to #HomeDecor, #Health #Fitness and #Traveling. Also, featuring articles on #Moms, #Parenting, #Pets,#RealEstate and more', 'verified': False, 'public_metrics': {'followers_count': 69, 'following_count': 170, 'tweet_count': 675, 'listed_count': 0}, 'id': '1288511812137357312', 'name': 'SpoliaMag', 'profile_image_url': 'https://pbs.twimg.com/profile_images/1351475552134324225/GaG6vSkI_normal.jpg', 'username': 'Spoliamags'}\n",
            "{'description': 'HaPpY CluB 😀🍾', 'verified': False, 'public_metrics': {'followers_count': 524, 'following_count': 174, 'tweet_count': 485, 'listed_count': 0}, 'location': 'Planet, Earth ', 'id': '3221985066', 'name': 'Sanju O_o', 'profile_image_url': 'https://pbs.twimg.com/profile_images/869497209787731968/zihJHSaj_normal.jpg', 'username': 'hi_solanki'}\n",
            "{'description': '#seo #digitalmarketing #futuremarketing #branding #informationtechnology', 'verified': False, 'public_metrics': {'followers_count': 2074, 'following_count': 3125, 'tweet_count': 1259, 'listed_count': 15}, 'location': 'Ahmadabad City, India', 'id': '739452700895502336', 'name': 'follow back', 'profile_image_url': 'https://pbs.twimg.com/profile_images/739456390356291584/nEaVJBzH_normal.jpg', 'username': 'i_m_leon'}\n",
            "{'description': 'banter. business. basketball. badman.', 'verified': False, 'public_metrics': {'followers_count': 32, 'following_count': 93, 'tweet_count': 2067, 'listed_count': 0}, 'id': '1541797658255400969', 'name': 'Hero For Hire.', 'profile_image_url': 'https://pbs.twimg.com/profile_images/1541799701166657538/Cz8Rw54P_normal.jpg', 'username': 'wavy_NAVAJO'}\n",
            "{'description': 'Nederlands populairste Apple-website | nieuws, tips en apps | reviews, devices en prijsvergelijking | tips? redactie@iphoned.nl', 'verified': False, 'public_metrics': {'followers_count': 7731, 'following_count': 33, 'tweet_count': 25143, 'listed_count': 193}, 'location': 'Nijmegen, Nederland', 'id': '14369793', 'name': 'iPhoned.nl', 'profile_image_url': 'https://pbs.twimg.com/profile_images/829682424024068098/SjKSFIWm_normal.jpg', 'username': 'iphoned'}\n",
            "{'description': '自動ツイート多めです。', 'verified': False, 'public_metrics': {'followers_count': 7, 'following_count': 2, 'tweet_count': 2192, 'listed_count': 1}, 'id': '1504331408105680897', 'name': 'りぃ', 'profile_image_url': 'https://pbs.twimg.com/profile_images/1504339737657880576/wa5Pagna_normal.jpg', 'username': 'bestprodbot'}\n",
            "{'description': 'OSU Buckeyes forever \\n\\nupdates and follow me for all new updates about me and my life and everything else.', 'verified': False, 'public_metrics': {'followers_count': 19, 'following_count': 585, 'tweet_count': 94, 'listed_count': 0}, 'location': 'Phoenix, AZ', 'id': '1543209255624331265', 'name': 'Tyler Scott', 'profile_image_url': 'https://pbs.twimg.com/profile_images/1543210767960313856/6GkCHQfT_normal.jpg', 'username': 'ExclusiveTyler1'}\n",
            "{'description': 'Photographer and Video director AT KANGA RECORDS. \\na Ugandan Ting 🇺🇬🇺🇬\\nONLINE COMMEDIAN.\\nsome serious Manchester united spirit rotating around me.', 'verified': False, 'public_metrics': {'followers_count': 91, 'following_count': 56, 'tweet_count': 1074, 'listed_count': 0}, 'location': 'Kampala, Uganda', 'id': '1520579883210260480', 'name': \"Dibdul Longleys'\", 'profile_image_url': 'https://pbs.twimg.com/profile_images/1520581319373299712/hwG_NYkC_normal.jpg', 'username': 'Dibdul_Longleys'}\n"
          ]
        },
        {
          "name": "stdout",
          "output_type": "stream",
          "text": [
            "200\n",
            "b26v89c19zqg8o3fpz2m13h2p6xze6c1sgu6wt9unj8u5\n",
            "9\n",
            "{'description': 'bio', 'verified': False, 'public_metrics': {'followers_count': 4, 'following_count': 14, 'tweet_count': 2498, 'listed_count': 0}, 'location': 'location', 'id': '2790164646', 'name': 'Ricardo Rodriguez', 'profile_image_url': 'https://abs.twimg.com/sticky/default_profile_images/default_profile_normal.png', 'username': 'rr70026'}\n",
            "{'description': 'Go for the bag. Chelsea fc', 'verified': False, 'public_metrics': {'followers_count': 2383, 'following_count': 1501, 'tweet_count': 5080, 'listed_count': 0}, 'location': 'Uganda', 'id': '1492117502725431299', 'name': 'Scofie', 'profile_image_url': 'https://pbs.twimg.com/profile_images/1543099327094169600/4j_K2DRU_normal.jpg', 'username': 'scofie_felix'}\n",
            "{'description': '#LifeStyle blog with #NewIdeas related to #HomeDecor, #Health #Fitness and #Traveling. Also, featuring articles on #Moms, #Parenting, #Pets,#RealEstate and more', 'verified': False, 'public_metrics': {'followers_count': 69, 'following_count': 170, 'tweet_count': 675, 'listed_count': 0}, 'id': '1288511812137357312', 'name': 'SpoliaMag', 'profile_image_url': 'https://pbs.twimg.com/profile_images/1351475552134324225/GaG6vSkI_normal.jpg', 'username': 'Spoliamags'}\n",
            "{'description': 'HaPpY CluB 😀🍾', 'verified': False, 'public_metrics': {'followers_count': 524, 'following_count': 174, 'tweet_count': 485, 'listed_count': 0}, 'location': 'Planet, Earth ', 'id': '3221985066', 'name': 'Sanju O_o', 'profile_image_url': 'https://pbs.twimg.com/profile_images/869497209787731968/zihJHSaj_normal.jpg', 'username': 'hi_solanki'}\n",
            "{'description': '#seo #digitalmarketing #futuremarketing #branding #informationtechnology', 'verified': False, 'public_metrics': {'followers_count': 2074, 'following_count': 3125, 'tweet_count': 1259, 'listed_count': 15}, 'location': 'Ahmadabad City, India', 'id': '739452700895502336', 'name': 'follow back', 'profile_image_url': 'https://pbs.twimg.com/profile_images/739456390356291584/nEaVJBzH_normal.jpg', 'username': 'i_m_leon'}\n",
            "{'description': 'banter. business. basketball. badman.', 'verified': False, 'public_metrics': {'followers_count': 32, 'following_count': 93, 'tweet_count': 2067, 'listed_count': 0}, 'id': '1541797658255400969', 'name': 'Hero For Hire.', 'profile_image_url': 'https://pbs.twimg.com/profile_images/1541799701166657538/Cz8Rw54P_normal.jpg', 'username': 'wavy_NAVAJO'}\n",
            "{'description': 'Nederlands populairste Apple-website | nieuws, tips en apps | reviews, devices en prijsvergelijking | tips? redactie@iphoned.nl', 'verified': False, 'public_metrics': {'followers_count': 7731, 'following_count': 33, 'tweet_count': 25143, 'listed_count': 193}, 'location': 'Nijmegen, Nederland', 'id': '14369793', 'name': 'iPhoned.nl', 'profile_image_url': 'https://pbs.twimg.com/profile_images/829682424024068098/SjKSFIWm_normal.jpg', 'username': 'iphoned'}\n",
            "{'description': '自動ツイート多めです。', 'verified': False, 'public_metrics': {'followers_count': 7, 'following_count': 2, 'tweet_count': 2192, 'listed_count': 1}, 'id': '1504331408105680897', 'name': 'りぃ', 'profile_image_url': 'https://pbs.twimg.com/profile_images/1504339737657880576/wa5Pagna_normal.jpg', 'username': 'bestprodbot'}\n",
            "{'description': 'OSU Buckeyes forever \\n\\nupdates and follow me for all new updates about me and my life and everything else.', 'verified': False, 'public_metrics': {'followers_count': 19, 'following_count': 585, 'tweet_count': 94, 'listed_count': 0}, 'location': 'Phoenix, AZ', 'id': '1543209255624331265', 'name': 'Tyler Scott', 'profile_image_url': 'https://pbs.twimg.com/profile_images/1543210767960313856/6GkCHQfT_normal.jpg', 'username': 'ExclusiveTyler1'}\n",
            "{'description': 'Photographer and Video director AT KANGA RECORDS. \\na Ugandan Ting 🇺🇬🇺🇬\\nONLINE COMMEDIAN.\\nsome serious Manchester united spirit rotating around me.', 'verified': False, 'public_metrics': {'followers_count': 91, 'following_count': 56, 'tweet_count': 1074, 'listed_count': 0}, 'location': 'Kampala, Uganda', 'id': '1520579883210260480', 'name': \"Dibdul Longleys'\", 'profile_image_url': 'https://pbs.twimg.com/profile_images/1520581319373299712/hwG_NYkC_normal.jpg', 'username': 'Dibdul_Longleys'}\n",
            "200\n",
            "b26v89c19zqg8o3fpz2m0z94e4t2wd1cp1tf0kceci6wt\n",
            "10\n",
            "{'description': 'bio', 'verified': False, 'public_metrics': {'followers_count': 4, 'following_count': 14, 'tweet_count': 2498, 'listed_count': 0}, 'location': 'location', 'id': '2790164646', 'name': 'Ricardo Rodriguez', 'profile_image_url': 'https://abs.twimg.com/sticky/default_profile_images/default_profile_normal.png', 'username': 'rr70026'}\n",
            "{'description': 'Go for the bag. Chelsea fc', 'verified': False, 'public_metrics': {'followers_count': 2383, 'following_count': 1501, 'tweet_count': 5080, 'listed_count': 0}, 'location': 'Uganda', 'id': '1492117502725431299', 'name': 'Scofie', 'profile_image_url': 'https://pbs.twimg.com/profile_images/1543099327094169600/4j_K2DRU_normal.jpg', 'username': 'scofie_felix'}\n",
            "{'description': '#LifeStyle blog with #NewIdeas related to #HomeDecor, #Health #Fitness and #Traveling. Also, featuring articles on #Moms, #Parenting, #Pets,#RealEstate and more', 'verified': False, 'public_metrics': {'followers_count': 69, 'following_count': 170, 'tweet_count': 675, 'listed_count': 0}, 'id': '1288511812137357312', 'name': 'SpoliaMag', 'profile_image_url': 'https://pbs.twimg.com/profile_images/1351475552134324225/GaG6vSkI_normal.jpg', 'username': 'Spoliamags'}\n",
            "{'description': 'HaPpY CluB 😀🍾', 'verified': False, 'public_metrics': {'followers_count': 524, 'following_count': 174, 'tweet_count': 485, 'listed_count': 0}, 'location': 'Planet, Earth ', 'id': '3221985066', 'name': 'Sanju O_o', 'profile_image_url': 'https://pbs.twimg.com/profile_images/869497209787731968/zihJHSaj_normal.jpg', 'username': 'hi_solanki'}\n",
            "{'description': '#seo #digitalmarketing #futuremarketing #branding #informationtechnology', 'verified': False, 'public_metrics': {'followers_count': 2074, 'following_count': 3125, 'tweet_count': 1259, 'listed_count': 15}, 'location': 'Ahmadabad City, India', 'id': '739452700895502336', 'name': 'follow back', 'profile_image_url': 'https://pbs.twimg.com/profile_images/739456390356291584/nEaVJBzH_normal.jpg', 'username': 'i_m_leon'}\n",
            "{'description': 'banter. business. basketball. badman.', 'verified': False, 'public_metrics': {'followers_count': 32, 'following_count': 93, 'tweet_count': 2067, 'listed_count': 0}, 'id': '1541797658255400969', 'name': 'Hero For Hire.', 'profile_image_url': 'https://pbs.twimg.com/profile_images/1541799701166657538/Cz8Rw54P_normal.jpg', 'username': 'wavy_NAVAJO'}\n",
            "{'description': 'Nederlands populairste Apple-website | nieuws, tips en apps | reviews, devices en prijsvergelijking | tips? redactie@iphoned.nl', 'verified': False, 'public_metrics': {'followers_count': 7731, 'following_count': 33, 'tweet_count': 25143, 'listed_count': 193}, 'location': 'Nijmegen, Nederland', 'id': '14369793', 'name': 'iPhoned.nl', 'profile_image_url': 'https://pbs.twimg.com/profile_images/829682424024068098/SjKSFIWm_normal.jpg', 'username': 'iphoned'}\n",
            "{'description': '自動ツイート多めです。', 'verified': False, 'public_metrics': {'followers_count': 7, 'following_count': 2, 'tweet_count': 2192, 'listed_count': 1}, 'id': '1504331408105680897', 'name': 'りぃ', 'profile_image_url': 'https://pbs.twimg.com/profile_images/1504339737657880576/wa5Pagna_normal.jpg', 'username': 'bestprodbot'}\n",
            "{'description': 'OSU Buckeyes forever \\n\\nupdates and follow me for all new updates about me and my life and everything else.', 'verified': False, 'public_metrics': {'followers_count': 19, 'following_count': 585, 'tweet_count': 94, 'listed_count': 0}, 'location': 'Phoenix, AZ', 'id': '1543209255624331265', 'name': 'Tyler Scott', 'profile_image_url': 'https://pbs.twimg.com/profile_images/1543210767960313856/6GkCHQfT_normal.jpg', 'username': 'ExclusiveTyler1'}\n",
            "{'description': 'Photographer and Video director AT KANGA RECORDS. \\na Ugandan Ting 🇺🇬🇺🇬\\nONLINE COMMEDIAN.\\nsome serious Manchester united spirit rotating around me.', 'verified': False, 'public_metrics': {'followers_count': 91, 'following_count': 56, 'tweet_count': 1074, 'listed_count': 0}, 'location': 'Kampala, Uganda', 'id': '1520579883210260480', 'name': \"Dibdul Longleys'\", 'profile_image_url': 'https://pbs.twimg.com/profile_images/1520581319373299712/hwG_NYkC_normal.jpg', 'username': 'Dibdul_Longleys'}\n"
          ]
        },
        {
          "ename": "KeyboardInterrupt",
          "evalue": "",
          "output_type": "error",
          "traceback": [
            "\u001b[0;31m---------------------------------------------------------------------------\u001b[0m",
            "\u001b[0;31mKeyboardInterrupt\u001b[0m                         Traceback (most recent call last)",
            "\u001b[0;32m/tmp/ipykernel_15889/3832242952.py\u001b[0m in \u001b[0;36m<module>\u001b[0;34m\u001b[0m\n\u001b[1;32m      1\u001b[0m \u001b[0;32mif\u001b[0m \u001b[0m__name__\u001b[0m \u001b[0;34m==\u001b[0m \u001b[0;34m\"__main__\"\u001b[0m\u001b[0;34m:\u001b[0m\u001b[0;34m\u001b[0m\u001b[0;34m\u001b[0m\u001b[0m\n\u001b[0;32m----> 2\u001b[0;31m     \u001b[0mmain\u001b[0m\u001b[0;34m(\u001b[0m\u001b[0;34m)\u001b[0m\u001b[0;34m\u001b[0m\u001b[0;34m\u001b[0m\u001b[0m\n\u001b[0m",
            "\u001b[0;32m/tmp/ipykernel_15889/3332859091.py\u001b[0m in \u001b[0;36mmain\u001b[0;34m()\u001b[0m\n\u001b[1;32m     53\u001b[0m             \u001b[0mprint\u001b[0m\u001b[0;34m(\u001b[0m\u001b[0muser\u001b[0m\u001b[0;34m)\u001b[0m\u001b[0;34m\u001b[0m\u001b[0;34m\u001b[0m\u001b[0m\n\u001b[1;32m     54\u001b[0m             \u001b[0mproducer\u001b[0m\u001b[0;34m.\u001b[0m\u001b[0msend\u001b[0m\u001b[0;34m(\u001b[0m\u001b[0mtopic_name\u001b[0m\u001b[0;34m,\u001b[0m \u001b[0mvalue\u001b[0m \u001b[0;34m=\u001b[0m \u001b[0mjson\u001b[0m\u001b[0;34m.\u001b[0m\u001b[0mdumps\u001b[0m\u001b[0;34m(\u001b[0m\u001b[0muser\u001b[0m\u001b[0;34m)\u001b[0m\u001b[0;34m.\u001b[0m\u001b[0mencode\u001b[0m\u001b[0;34m(\u001b[0m\u001b[0;34m'utf-8'\u001b[0m\u001b[0;34m)\u001b[0m\u001b[0;34m)\u001b[0m\u001b[0;34m\u001b[0m\u001b[0;34m\u001b[0m\u001b[0m\n\u001b[0;32m---> 55\u001b[0;31m         \u001b[0mtime\u001b[0m\u001b[0;34m.\u001b[0m\u001b[0msleep\u001b[0m\u001b[0;34m(\u001b[0m\u001b[0;36m15\u001b[0m\u001b[0;34m)\u001b[0m\u001b[0;34m\u001b[0m\u001b[0;34m\u001b[0m\u001b[0m\n\u001b[0m\u001b[1;32m     56\u001b[0m \u001b[0;34m\u001b[0m\u001b[0m\n\u001b[1;32m     57\u001b[0m     \u001b[0;31m#print(json.dumps(result, indent=4, sort_keys=True))\u001b[0m\u001b[0;34m\u001b[0m\u001b[0;34m\u001b[0m\u001b[0;34m\u001b[0m\u001b[0m\n",
            "\u001b[0;31mKeyboardInterrupt\u001b[0m: "
          ]
        }
      ],
      "source": [
        "if __name__ == \"__main__\":\n",
        "    main()"
      ]
    },
    {
      "cell_type": "code",
      "execution_count": null,
      "id": "f7d4d01f",
      "metadata": {
        "id": "f7d4d01f"
      },
      "outputs": [],
      "source": [
        "producer.flush()"
      ]
    },
    {
      "cell_type": "code",
      "execution_count": null,
      "id": "5dc48189",
      "metadata": {
        "id": "5dc48189"
      },
      "outputs": [],
      "source": [
        "producer.close()"
      ]
    }
  ],
  "metadata": {
    "kernelspec": {
      "display_name": "Python 3 (ipykernel)",
      "language": "python",
      "name": "python3"
    },
    "language_info": {
      "codemirror_mode": {
        "name": "ipython",
        "version": 3
      },
      "file_extension": ".py",
      "mimetype": "text/x-python",
      "name": "python",
      "nbconvert_exporter": "python",
      "pygments_lexer": "ipython3",
      "version": "3.8.11"
    },
    "colab": {
      "provenance": []
    }
  },
  "nbformat": 4,
  "nbformat_minor": 5
}
