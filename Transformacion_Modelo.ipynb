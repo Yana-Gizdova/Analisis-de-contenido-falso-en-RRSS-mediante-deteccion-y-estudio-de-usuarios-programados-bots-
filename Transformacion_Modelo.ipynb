{
  "cells": [
    {
      "cell_type": "code",
      "execution_count": null,
      "metadata": {
        "id": "nToqEUlwvp-l"
      },
      "outputs": [],
      "source": [
        "from pyspark.sql import SparkSession\n",
        "from pyspark.sql.functions import *\n",
        "from pyspark.sql import functions as F\n",
        "from pyspark.ml.feature import VectorAssembler\n",
        "from pyspark.ml.feature import StandardScaler\n",
        "from pyspark.ml.classification import LogisticRegression\n",
        "from pyspark.ml.evaluation import BinaryClassificationEvaluator\n",
        "from pyspark.mllib.evaluation import BinaryClassificationMetrics\n",
        "from pyspark.ml.classification import RandomForestClassifier\n",
        "from pyspark.ml.feature import ChiSqSelector\n",
        "import json"
      ]
    },
    {
      "cell_type": "markdown",
      "metadata": {
        "id": "qTgW9ojWvp-q"
      },
      "source": [
        "# Reading and Cleaning Training Data\n"
      ]
    },
    {
      "cell_type": "code",
      "execution_count": null,
      "metadata": {
        "colab": {
          "base_uri": "https://localhost:8080/"
        },
        "id": "xMgssNV3vp-t",
        "outputId": "2eefdeb1-bd40-4845-bcac-79b01afc350d"
      },
      "outputs": [
        {
          "output_type": "stream",
          "name": "stdout",
          "text": [
            "root\n",
            " |-- id_str: double (nullable = true)\n",
            " |-- screen_name: string (nullable = true)\n",
            " |-- location: string (nullable = true)\n",
            " |-- description: string (nullable = true)\n",
            " |-- followers_count: string (nullable = true)\n",
            " |-- friends_count: string (nullable = true)\n",
            " |-- favourites_count: string (nullable = true)\n",
            " |-- verified: string (nullable = true)\n",
            " |-- statuses_count: string (nullable = true)\n",
            " |-- lang: string (nullable = true)\n",
            " |-- default_profile: string (nullable = true)\n",
            " |-- default_profile_image: string (nullable = true)\n",
            " |-- account_type: string (nullable = true)\n",
            "\n",
            "+---------------------+---------------+-----------------------------+---------------------------------------------------------------------------------------------------------------------------------------------------------------+---------------+-------------+----------------+--------+--------------+----+---------------+---------------------+------------+\n",
            "|id_str               |screen_name    |location                     |description                                                                                                                                                    |followers_count|friends_count|favourites_count|verified|statuses_count|lang|default_profile|default_profile_image|account_type|\n",
            "+---------------------+---------------+-----------------------------+---------------------------------------------------------------------------------------------------------------------------------------------------------------+---------------+-------------+----------------+--------+--------------+----+---------------+---------------------+------------+\n",
            "|8.1574578975441715E17|HoustonPokeMap |Houston, TX                  |Rare and strong PokŽmon in Houston, TX. See more PokŽmon at https://t.co/dnWuDbFRkt                                                                            |1291           |0            |0               |FALSE   |78554         |en  |TRUE           |FALSE                |1           |\n",
            "|4.843621225E9        |kernyeahx      |Templeville town, MD, USA    |From late 2014 Socium Marketplace will make shopping for fundamental business services more simple, more cost effective and more about you.                    |1              |349          |38              |FALSE   |31            |en  |TRUE           |FALSE                |1           |\n",
            "|2.95514207E9         |lucarivera16   |Dublin, United States        |Inspiring cooks everywhere since 1956.                                                                                                                         |11             |745          |146             |FALSE   |185           |en  |FALSE          |FALSE                |1           |\n",
            "|2.482834658E9        |_all_of_us_    |in a machine.                |bot by @rubicon                                                                                                                                                |193            |0            |0               |FALSE   |6068          |en  |FALSE          |FALSE                |1           |\n",
            "|2.717905134E9        |everycheese    |cheese land                  |cheese cheese cheese // updates every 4 hours // by @thricedotted, with inspiration from cheese and @mattlaschneider                                           |51             |1            |0               |FALSE   |111           |en  |FALSE          |FALSE                |1           |\n",
            "|2.95470409E9         |yeahTonyaGonzal|Pensacola, USA               |Musician, vegan, animal rights activist.                                                                                                                       |15             |1941         |319             |FALSE   |406           |en  |FALSE          |FALSE                |1           |\n",
            "|2.475875424E9        |onetruewiseman |AMERICA                      |The Truest Wisdom (aka trying to make even less sense) from leading Republican presidential candidates for 2016.                                               |23             |4            |4               |FALSE   |6230          |en  |FALSE          |FALSE                |1           |\n",
            "|1.909219404E9        |everycolorbot  |the RGB color space          |colors.  all of 'em. | developed by @vogon; feel free to send him feedback/feature requests                                                                    |106126         |0            |2               |FALSE   |30156         |en  |TRUE           |FALSE                |1           |\n",
            "|4.040207472E9        |himawari8bot   |Space                        |Unofficial; imagery courtesy: Japan Meteorological Agency (https://t.co/lzPXaTnMCi) and CIRA (https://t.co/YksnDoJEl8). Bot by @__jcbl__                       |2302           |3            |4               |FALSE   |7640          |en  |FALSE          |FALSE                |1           |\n",
            "|3.369547257E9        |emoji__polls   |‰÷•ü                       |A silly bot by @fourtonfish @botwikidotorg. Image credit: https://t.co/X3tmC9y6oI                                                                              |443            |2            |6               |FALSE   |9584          |en  |FALSE          |FALSE                |1           |\n",
            "|2.52044972E9         |hyphizer       |#botALLY                     |New words, from time to time. By @derekarnold                                                                                                                  |191            |2            |0               |FALSE   |5684          |en  |FALSE          |FALSE                |1           |\n",
            "|2.787206222E9        |everyMTGlegend |The Coast Where Wizards Chill|tweeting every legendary MTG card (as of 10/2015) task complete in ~1 year                                                                                     |37             |45           |0               |FALSE   |191           |en  |FALSE          |FALSE                |1           |\n",
            "|3.369559252E9        |DeepDreamThis  |London, England              |Tweet me a picture and I'll #deepdream it for you! Tweet '-me' and I'll dream your avatar! List of commands here: http://t.co/BRfLYAkWBA                       |1327           |2            |0               |FALSE   |24199         |en  |TRUE           |FALSE                |1           |\n",
            "|2.75124698E9         |BklynMuseumBot |Brooklyn, NY                 |I am a bot that tweets one random object from the Brooklyn Museum collection, four times a day. Bot by @backspace (not affiliated with @brooklynmuseum)        |903            |1            |0               |FALSE   |3654          |en  |FALSE          |FALSE                |1           |\n",
            "|4.825082233E9        |peabero89      |Van Horn town, TX, USA       |Middle age is youth without levity; and age without decay.                                                                                                     |1              |340          |33              |FALSE   |49            |en  |TRUE           |FALSE                |1           |\n",
            "|2.821046862E9        |moonmurmur     |the sky and all of space     |[@thricedotted's subconscious, possibly]                                                                                                                       |1076           |0            |0               |FALSE   |12674         |en  |FALSE          |FALSE                |1           |\n",
            "|2.47737885E9         |AttentiveBot   |Tended to by @dphiffer       |You may have missed some things, I will help you find them.                                                                                                    |399            |679          |64              |FALSE   |26073         |en  |FALSE          |FALSE                |1           |\n",
            "|8.2093046012130099E17|LondonPogoMap  |London                       |Rare and strong PokŽmon in London. See more PokŽmon at https://t.co/rqjskg5pkE                                                                                 |1334           |0            |7               |FALSE   |59023         |en  |TRUE           |FALSE                |1           |\n",
            "|1.77684507E8         |rnomics        |France                       |#RNomics, #RNA biology, RNA #bioinformatics, #RNA_World & #evolution, technologies & resources, daily papers: https://t.co/UaH05PfPIt & https://t.co/cuczvAA7dr|1807           |101          |124             |FALSE   |125403        |en  |FALSE          |FALSE                |1           |\n",
            "|2.293077919E9        |DiGRAThemes    |Snowbird                     |DiGRA 2014 Theme Generator. // by @ibogost                                                                                                                     |82             |49           |0               |FALSE   |16728         |en  |FALSE          |FALSE                |1           |\n",
            "+---------------------+---------------+-----------------------------+---------------------------------------------------------------------------------------------------------------------------------------------------------------+---------------+-------------+----------------+--------+--------------+----+---------------+---------------------+------------+\n",
            "only showing top 20 rows\n",
            "\n"
          ]
        }
      ],
      "source": [
        "df = spark.read.table('project.bot_data')\n",
        "df=df.dropna()\n",
        "df.printSchema()\n",
        "df.show(20, False)"
      ]
    },
    {
      "cell_type": "markdown",
      "metadata": {
        "id": "0ilTzbZTvp-u"
      },
      "source": [
        "### Features to detect Twitter Bots:\n",
        "['followers_count', 'friends_count', 'listedcount', 'favourites_count', 'default_profile', 'word <b>'bot'</b> in the screenname <b>or</b> in the description']"
      ]
    },
    {
      "cell_type": "code",
      "execution_count": null,
      "metadata": {
        "scrolled": true,
        "colab": {
          "base_uri": "https://localhost:8080/"
        },
        "id": "Tue0h68Ovp-v",
        "outputId": "cf46e176-bd14-4631-93f6-6907be06ff60"
      },
      "outputs": [
        {
          "output_type": "stream",
          "name": "stdout",
          "text": [
            "root\n",
            " |-- screen_name: string (nullable = true)\n",
            " |-- description: string (nullable = true)\n",
            " |-- followers_count: long (nullable = true)\n",
            " |-- friends_count: long (nullable = true)\n",
            " |-- default_profile: integer (nullable = true)\n",
            " |-- account_type: integer (nullable = true)\n",
            "\n",
            "+--------------+--------------------+---------------+-------------+---------------+------------+\n",
            "|   screen_name|         description|followers_count|friends_count|default_profile|account_type|\n",
            "+--------------+--------------------+---------------+-------------+---------------+------------+\n",
            "|HoustonPokeMap|Rare and strong P...|           1291|            0|              1|           1|\n",
            "|     kernyeahx|From late 2014 So...|              1|          349|              1|           1|\n",
            "|  lucarivera16|Inspiring cooks e...|             11|          745|              0|           1|\n",
            "|   _all_of_us_|     bot by @rubicon|            193|            0|              0|           1|\n",
            "+--------------+--------------------+---------------+-------------+---------------+------------+\n",
            "only showing top 4 rows\n",
            "\n"
          ]
        }
      ],
      "source": [
        "df.createOrReplaceTempView('df')\n",
        "raw_df1 = spark.sql('SELECT CAST(screen_name AS string), CAST(description AS string), CAST(verified AS boolean), CAST(followers_count AS LONG), CAST(friends_count AS LONG),\\\n",
        "                         CAST(default_profile AS boolean), CAST(account_type AS INT) FROM df WHERE verified == false')\n",
        "raw_df1.createOrReplaceTempView('raw_df1')\n",
        "raw_df = spark.sql('SELECT screen_name, description, followers_count, friends_count,\\\n",
        "                         CAST(default_profile AS INT), account_type FROM raw_df1')\n",
        "raw_df.printSchema()\n",
        "raw_df.show(4)"
      ]
    },
    {
      "cell_type": "code",
      "source": [
        "raw_df.dropna('any')\n",
        "raw_df.printSchema()\n",
        "raw_df.show(4)"
      ],
      "metadata": {
        "colab": {
          "base_uri": "https://localhost:8080/"
        },
        "id": "LOwdhhHLpe_-",
        "outputId": "058c51b7-7cb7-44be-b98a-b2e886e5de8d"
      },
      "execution_count": null,
      "outputs": [
        {
          "output_type": "stream",
          "name": "stdout",
          "text": [
            "root\n",
            " |-- screen_name: string (nullable = true)\n",
            " |-- description: string (nullable = true)\n",
            " |-- followers_count: long (nullable = true)\n",
            " |-- friends_count: long (nullable = true)\n",
            " |-- default_profile: integer (nullable = true)\n",
            " |-- account_type: integer (nullable = true)\n",
            "\n",
            "+--------------+--------------------+---------------+-------------+---------------+------------+\n",
            "|   screen_name|         description|followers_count|friends_count|default_profile|account_type|\n",
            "+--------------+--------------------+---------------+-------------+---------------+------------+\n",
            "|HoustonPokeMap|Rare and strong P...|           1291|            0|              1|           1|\n",
            "|     kernyeahx|From late 2014 So...|              1|          349|              1|           1|\n",
            "|  lucarivera16|Inspiring cooks e...|             11|          745|              0|           1|\n",
            "|   _all_of_us_|     bot by @rubicon|            193|            0|              0|           1|\n",
            "+--------------+--------------------+---------------+-------------+---------------+------------+\n",
            "only showing top 4 rows\n",
            "\n"
          ]
        }
      ]
    },
    {
      "cell_type": "code",
      "execution_count": null,
      "metadata": {
        "id": "AB2FD1ufvp-x"
      },
      "outputs": [],
      "source": [
        "train_df = raw_df.select( \\\n",
        "'followers_count', 'friends_count', 'default_profile','account_type',\n",
        "  F.col(\"screen_name\").contains(\"bot\").alias(\"screen_name_binary\"),\n",
        "  F.col(\"description\").contains(\"bot\").alias(\"description_name_binary\")\n",
        ").withColumn('bot_binary', F.col('screen_name_binary') | F.col('description_name_binary')).fillna({'bot_binary':False})\\\n",
        ".select('bot_binary', 'followers_count', 'friends_count', 'default_profile', 'account_type')"
      ]
    },
    {
      "cell_type": "code",
      "source": [
        "train_df.createOrReplaceTempView('train_df')\n",
        "train_df = spark.sql('SELECT CAST(bot_binary AS INT), followers_count, friends_count, default_profile, account_type FROM train_df')"
      ],
      "metadata": {
        "id": "dgDnbM6vJOlE"
      },
      "execution_count": null,
      "outputs": []
    },
    {
      "cell_type": "code",
      "execution_count": null,
      "metadata": {
        "colab": {
          "base_uri": "https://localhost:8080/"
        },
        "id": "HZynHvThvp-1",
        "outputId": "6d2cb872-33ff-4aa1-ff97-28a77e7c8b5e"
      },
      "outputs": [
        {
          "output_type": "stream",
          "name": "stdout",
          "text": [
            "root\n",
            " |-- bot_binary: integer (nullable = false)\n",
            " |-- followers_count: long (nullable = true)\n",
            " |-- friends_count: long (nullable = true)\n",
            " |-- default_profile: integer (nullable = true)\n",
            " |-- account_type: integer (nullable = true)\n",
            "\n",
            "+----------+---------------+-------------+---------------+------------+\n",
            "|bot_binary|followers_count|friends_count|default_profile|account_type|\n",
            "+----------+---------------+-------------+---------------+------------+\n",
            "|         0|           1291|            0|              1|           1|\n",
            "|         0|              1|          349|              1|           1|\n",
            "|         0|             11|          745|              0|           1|\n",
            "|         1|            193|            0|              0|           1|\n",
            "|         0|             51|            1|              0|           1|\n",
            "|         0|             15|         1941|              0|           1|\n",
            "|         0|             23|            4|              0|           1|\n",
            "|         1|         106126|            0|              1|           1|\n",
            "|         1|           2302|            3|              0|           1|\n",
            "|         1|            443|            2|              0|           1|\n",
            "|         0|            191|            2|              0|           1|\n",
            "|         0|             37|           45|              0|           1|\n",
            "|         0|           1327|            2|              1|           1|\n",
            "|         1|            903|            1|              0|           1|\n",
            "|         0|              1|          340|              1|           1|\n",
            "|         0|           1076|            0|              0|           1|\n",
            "|         0|            399|          679|              0|           1|\n",
            "|         0|           1334|            0|              1|           1|\n",
            "|         0|           1807|          101|              0|           1|\n",
            "|         0|             82|           49|              0|           1|\n",
            "+----------+---------------+-------------+---------------+------------+\n",
            "only showing top 20 rows\n",
            "\n"
          ]
        }
      ],
      "source": [
        "train_df.printSchema()\n",
        "train_df.show()"
      ]
    },
    {
      "cell_type": "markdown",
      "metadata": {
        "id": "s4fU4FnZvp-4"
      },
      "source": [
        "# Scalerizing the features"
      ]
    },
    {
      "cell_type": "code",
      "source": [
        "train_df=train_df.na.drop('any')"
      ],
      "metadata": {
        "id": "oJd-JL-_tjGP"
      },
      "execution_count": null,
      "outputs": []
    },
    {
      "cell_type": "code",
      "execution_count": null,
      "metadata": {
        "scrolled": true,
        "id": "WPMp5aXzvp-5"
      },
      "outputs": [],
      "source": [
        "cols=train_df.columns\n",
        "cols.remove(\"account_type\")\n",
        "assembler = VectorAssembler(inputCols=cols,outputCol=\"features\")"
      ]
    },
    {
      "cell_type": "code",
      "source": [
        "train_df = assembler.transform(train_df)"
      ],
      "metadata": {
        "id": "eYGJjaYnIh16"
      },
      "execution_count": null,
      "outputs": []
    },
    {
      "cell_type": "code",
      "source": [
        "train_df.select(\"features\").show(10, truncate=False)"
      ],
      "metadata": {
        "colab": {
          "base_uri": "https://localhost:8080/"
        },
        "id": "Cfk41XQ9c2Gx",
        "outputId": "c2616c5e-440b-4ec4-e3d2-931379656046"
      },
      "execution_count": null,
      "outputs": [
        {
          "output_type": "stream",
          "name": "stdout",
          "text": [
            "+----------------------+\n",
            "|features              |\n",
            "+----------------------+\n",
            "|[0.0,1291.0,0.0,1.0]  |\n",
            "|[0.0,1.0,349.0,1.0]   |\n",
            "|[0.0,11.0,745.0,0.0]  |\n",
            "|[1.0,193.0,0.0,0.0]   |\n",
            "|[0.0,51.0,1.0,0.0]    |\n",
            "|[0.0,15.0,1941.0,0.0] |\n",
            "|[0.0,23.0,4.0,0.0]    |\n",
            "|[1.0,106126.0,0.0,1.0]|\n",
            "|[1.0,2302.0,3.0,0.0]  |\n",
            "|[1.0,443.0,2.0,0.0]   |\n",
            "+----------------------+\n",
            "only showing top 10 rows\n",
            "\n"
          ]
        }
      ]
    },
    {
      "cell_type": "code",
      "source": [
        "train_df.show(5, truncate=False)"
      ],
      "metadata": {
        "colab": {
          "base_uri": "https://localhost:8080/"
        },
        "id": "1LIy7tnZzoPM",
        "outputId": "e0454328-5a4f-447c-b789-d84f089301d5"
      },
      "execution_count": null,
      "outputs": [
        {
          "output_type": "stream",
          "name": "stdout",
          "text": [
            "+----------+---------------+-------------+---------------+------------+--------------------+\n",
            "|bot_binary|followers_count|friends_count|default_profile|account_type|features            |\n",
            "+----------+---------------+-------------+---------------+------------+--------------------+\n",
            "|0         |1291           |0            |1              |1           |[0.0,1291.0,0.0,1.0]|\n",
            "|0         |1              |349          |1              |1           |[0.0,1.0,349.0,1.0] |\n",
            "|0         |11             |745          |0              |1           |[0.0,11.0,745.0,0.0]|\n",
            "|1         |193            |0            |0              |1           |[1.0,193.0,0.0,0.0] |\n",
            "|0         |51             |1            |0              |1           |[0.0,51.0,1.0,0.0]  |\n",
            "+----------+---------------+-------------+---------------+------------+--------------------+\n",
            "only showing top 5 rows\n",
            "\n"
          ]
        }
      ]
    },
    {
      "cell_type": "code",
      "execution_count": null,
      "metadata": {
        "id": "Bt1jTEL9vp-7"
      },
      "outputs": [],
      "source": [
        "train, test = train_df.randomSplit([0.8, 0.2], seed=None)"
      ]
    },
    {
      "cell_type": "markdown",
      "metadata": {
        "id": "NstiRw2Ivp-8"
      },
      "source": [
        "## Logistic Regression Model"
      ]
    },
    {
      "cell_type": "code",
      "execution_count": null,
      "metadata": {
        "scrolled": false,
        "id": "SQkJxCdhvp-9"
      },
      "outputs": [],
      "source": [
        "lr = LogisticRegression(labelCol=\"account_type\", featuresCol=\"features\",maxIter=10)\n",
        "lr_model = lr.fit(train)\n",
        "predict_train = lr_model.transform(train)\n",
        "predict_test = lr_model.transform(test)"
      ]
    },
    {
      "cell_type": "code",
      "source": [
        "predict_test.select(\"account_type\",\"prediction\").show(10)"
      ],
      "metadata": {
        "colab": {
          "base_uri": "https://localhost:8080/"
        },
        "id": "bln512o0LM7W",
        "outputId": "d1a3a6df-edac-43c0-937d-7f8ca60193b6"
      },
      "execution_count": null,
      "outputs": [
        {
          "output_type": "stream",
          "name": "stdout",
          "text": [
            "+------------+----------+\n",
            "|account_type|prediction|\n",
            "+------------+----------+\n",
            "|           1|       1.0|\n",
            "|           1|       1.0|\n",
            "|           1|       1.0|\n",
            "|           1|       1.0|\n",
            "|           1|       1.0|\n",
            "|           1|       1.0|\n",
            "|           0|       1.0|\n",
            "|           1|       1.0|\n",
            "|           1|       1.0|\n",
            "|           1|       0.0|\n",
            "+------------+----------+\n",
            "only showing top 10 rows\n",
            "\n"
          ]
        }
      ]
    },
    {
      "cell_type": "code",
      "execution_count": null,
      "metadata": {
        "id": "kMbMWf_dvp-_"
      },
      "outputs": [],
      "source": [
        "tn = predict_test.select(\"account_type\",\"prediction\").filter(predict_test.account_type == 0).filter(predict_test.prediction == 0).count()\n",
        "fp = predict_test.select(\"account_type\",\"prediction\").filter(predict_test.account_type == 0).filter(predict_test.prediction == 1).count()\n",
        "fn = predict_test.select(\"account_type\",\"prediction\").filter(predict_test.account_type == 1).filter(predict_test.prediction == 0).count()\n",
        "tp = predict_test.select(\"account_type\",\"prediction\").filter(predict_test.account_type == 1).filter(predict_test.prediction == 1).count()"
      ]
    },
    {
      "cell_type": "code",
      "execution_count": null,
      "metadata": {
        "colab": {
          "base_uri": "https://localhost:8080/"
        },
        "id": "b2onNtTrvp_A",
        "outputId": "21ee45a7-0615-4162-9a7a-51face34ebc9"
      },
      "outputs": [
        {
          "output_type": "stream",
          "name": "stdout",
          "text": [
            "F1 Score is:  0.7582938388625592\n"
          ]
        }
      ],
      "source": [
        "recall = tp/(fn+tp)\n",
        "precision = tp/(fp+tp)\n",
        "f1 = (2*recall*precision)/(recall+precision)\n",
        "print(\"F1 Score is: \",f1)"
      ]
    },
    {
      "cell_type": "code",
      "execution_count": null,
      "metadata": {
        "colab": {
          "base_uri": "https://localhost:8080/"
        },
        "id": "ocHoFIa2vp_B",
        "outputId": "66d42bfb-ff28-41da-a85d-b1811a96038e"
      },
      "outputs": [
        {
          "output_type": "stream",
          "name": "stdout",
          "text": [
            "The area under ROC for train set is 0.7092300082707601\n",
            "The area under ROC for test set is 0.7315984320557493\n"
          ]
        }
      ],
      "source": [
        "evaluator = BinaryClassificationEvaluator(rawPredictionCol='rawPrediction',labelCol='account_type')\n",
        "print(\"The area under ROC for train set is {}\".format(evaluator.evaluate(predict_train)))\n",
        "print(\"The area under ROC for test set is {}\".format(evaluator.evaluate(predict_test)))"
      ]
    },
    {
      "cell_type": "code",
      "source": [
        "import numpy as np\n",
        "import pandas as pd\n",
        "import seaborn as sn\n",
        "import matplotlib.pyplot as plt\n",
        "\n",
        "pan = predict_test.toPandas()\n",
        "mat = pd.DataFrame(pan, columns=['account_type','prediction'])\n",
        "confusion_matrix = pd.crosstab(pan['account_type'], pan['prediction'], rownames=['Actual'], colnames=['Predicted'])\n",
        "sn.heatmap(confusion_matrix, annot=True)\n",
        "plt.show()"
      ],
      "metadata": {
        "colab": {
          "base_uri": "https://localhost:8080/",
          "height": 283
        },
        "id": "qDvd-HCLPaUV",
        "outputId": "5b8e3d8a-fa6b-4d80-8d53-6b80d2d1c4f7"
      },
      "execution_count": null,
      "outputs": [
        {
          "output_type": "display_data",
          "data": {
            "text/plain": [
              "<Figure size 432x288 with 2 Axes>"
            ],
            "image/png": "[encoded data removed]"
          },
          "metadata": {
            "needs_background": "light"
          }
        }
      ]
    },
    {
      "cell_type": "markdown",
      "metadata": {
        "id": "zuMBi7Iavp_G"
      },
      "source": [
        "## Random Forest Model"
      ]
    },
    {
      "cell_type": "code",
      "execution_count": null,
      "metadata": {
        "scrolled": true,
        "colab": {
          "base_uri": "https://localhost:8080/"
        },
        "id": "8j8ybGRHvp_H",
        "outputId": "0cca2cc7-61a1-4190-c6b6-7d9af78ef9d4"
      },
      "outputs": [
        {
          "output_type": "stream",
          "name": "stdout",
          "text": [
            "+------------+----------+\n",
            "|account_type|prediction|\n",
            "+------------+----------+\n",
            "|           1|       1.0|\n",
            "|           1|       1.0|\n",
            "|           1|       1.0|\n",
            "|           1|       1.0|\n",
            "|           1|       1.0|\n",
            "|           1|       1.0|\n",
            "|           0|       0.0|\n",
            "|           1|       1.0|\n",
            "|           1|       1.0|\n",
            "|           1|       1.0|\n",
            "+------------+----------+\n",
            "only showing top 10 rows\n",
            "\n"
          ]
        }
      ],
      "source": [
        "rf = RandomForestClassifier(labelCol=\"account_type\", featuresCol=\"features\", numTrees=10)\n",
        "rf_model = rf.fit(train)\n",
        "predict_train = rf_model.transform(train)\n",
        "predict_test = rf_model.transform(test)\n",
        "predict_test.select(\"account_type\",\"prediction\").show(10)"
      ]
    },
    {
      "cell_type": "code",
      "execution_count": null,
      "metadata": {
        "id": "zNg34ZhZvp_I"
      },
      "outputs": [],
      "source": [
        "tn = predict_test.select(\"account_type\",\"prediction\").filter(predict_test.account_type == 0).filter(predict_test.prediction == 0).count()\n",
        "fp = predict_test.select(\"account_type\",\"prediction\").filter(predict_test.account_type == 0).filter(predict_test.prediction == 1).count()\n",
        "fn = predict_test.select(\"account_type\",\"prediction\").filter(predict_test.account_type == 1).filter(predict_test.prediction == 0).count()\n",
        "tp = predict_test.select(\"account_type\",\"prediction\").filter(predict_test.account_type == 1).filter(predict_test.prediction == 1).count()"
      ]
    },
    {
      "cell_type": "code",
      "execution_count": null,
      "metadata": {
        "colab": {
          "base_uri": "https://localhost:8080/"
        },
        "id": "y_ycZSP4vp_J",
        "outputId": "f823cf1d-9245-49c3-a73a-7e461504bba2"
      },
      "outputs": [
        {
          "output_type": "stream",
          "name": "stdout",
          "text": [
            "F1 Score is:  0.8803827751196172\n"
          ]
        }
      ],
      "source": [
        "recall = tp/(fn+tp)\n",
        "precision = tp/(fp+tp)\n",
        "f1 = (2*recall*precision)/(recall+precision)\n",
        "print(\"F1 Score is: \",f1)"
      ]
    },
    {
      "cell_type": "code",
      "execution_count": null,
      "metadata": {
        "colab": {
          "base_uri": "https://localhost:8080/"
        },
        "id": "fLSwCTagvp_K",
        "outputId": "7075d398-1062-45db-d337-02b3f158785c"
      },
      "outputs": [
        {
          "output_type": "stream",
          "name": "stdout",
          "text": [
            "The area under ROC for train set is 0.9340001297374441\n",
            "The area under ROC for test set is 0.9055966898954704\n"
          ]
        }
      ],
      "source": [
        "evaluator = BinaryClassificationEvaluator(rawPredictionCol='rawPrediction',labelCol='account_type')\n",
        "print(\"The area under ROC for train set is {}\".format(evaluator.evaluate(predict_train)))\n",
        "print(\"The area under ROC for test set is {}\".format(evaluator.evaluate(predict_test)))"
      ]
    },
    {
      "cell_type": "code",
      "source": [
        "import numpy as np\n",
        "import pandas as pd\n",
        "import seaborn as sn\n",
        "import matplotlib.pyplot as plt\n",
        "\n",
        "pan = predict_test.toPandas()\n",
        "mat = pd.DataFrame(pan, columns=['account_type','prediction'])\n",
        "confusion_matrix = pd.crosstab(pan['account_type'], pan['prediction'], rownames=['Actual'], colnames=['Predicted'])\n",
        "sn.heatmap(confusion_matrix, annot=True)\n",
        "plt.show()"
      ],
      "metadata": {
        "colab": {
          "base_uri": "https://localhost:8080/",
          "height": 279
        },
        "id": "m4eObW2JUCYl",
        "outputId": "3d2d8898-2e12-4f29-a41e-84471c58c352"
      },
      "execution_count": null,
      "outputs": [
        {
          "output_type": "display_data",
          "data": {
            "text/plain": [
              "<Figure size 432x288 with 2 Axes>"
            ],
            "image/png": "[encoded data removed]"
          },
          "metadata": {
            "needs_background": "light"
          }
        }
      ]
    },
    {
      "cell_type": "markdown",
      "source": [
        "# Gradient-Boosted Tree Classifier"
      ],
      "metadata": {
        "id": "pxz6vghlZHod"
      }
    },
    {
      "cell_type": "code",
      "source": [
        "from pyspark.ml.classification import GBTClassifier"
      ],
      "metadata": {
        "id": "LTJx2iRkZSkH"
      },
      "execution_count": null,
      "outputs": []
    },
    {
      "cell_type": "code",
      "source": [
        "gbt = GBTClassifier(maxIter=10, labelCol=\"account_type\")\n",
        "gbt_model = gbt.fit(train)\n",
        "predict_train = gbt_model.transform(train)\n",
        "predict_test = gbt_model.transform(test)"
      ],
      "metadata": {
        "id": "ipOY-BvcZOzp"
      },
      "execution_count": null,
      "outputs": []
    },
    {
      "cell_type": "code",
      "source": [
        "tn = predict_test.select(\"account_type\",\"prediction\").filter(predict_test.account_type == 0).filter(predict_test.prediction == 0).count()\n",
        "fp = predict_test.select(\"account_type\",\"prediction\").filter(predict_test.account_type == 0).filter(predict_test.prediction == 1).count()\n",
        "fn = predict_test.select(\"account_type\",\"prediction\").filter(predict_test.account_type == 1).filter(predict_test.prediction == 0).count()\n",
        "tp = predict_test.select(\"account_type\",\"prediction\").filter(predict_test.account_type == 1).filter(predict_test.prediction == 1).count()"
      ],
      "metadata": {
        "id": "W-QqGhMPZ3dy"
      },
      "execution_count": null,
      "outputs": []
    },
    {
      "cell_type": "code",
      "source": [
        "recall = tp/(fn+tp)\n",
        "precision = tp/(fp+tp)\n",
        "f1 = (2*recall*precision)/(recall+precision)\n",
        "print(\"F1 Score is: \",f1)"
      ],
      "metadata": {
        "colab": {
          "base_uri": "https://localhost:8080/"
        },
        "id": "X0uXhGXaZ8AQ",
        "outputId": "6e15f6aa-3d9c-4977-cd4e-c62c14a3b680"
      },
      "execution_count": null,
      "outputs": [
        {
          "output_type": "stream",
          "name": "stdout",
          "text": [
            "F1 Score is:  0.878048780487805\n"
          ]
        }
      ]
    },
    {
      "cell_type": "code",
      "source": [
        "evaluator = BinaryClassificationEvaluator(rawPredictionCol='rawPrediction',labelCol='account_type')\n",
        "print(\"The area under ROC for train set is {}\".format(evaluator.evaluate(predict_train)))\n",
        "print(\"The area under ROC for test set is {}\".format(evaluator.evaluate(predict_test)))"
      ],
      "metadata": {
        "colab": {
          "base_uri": "https://localhost:8080/"
        },
        "id": "N3NoaEe5Z-TB",
        "outputId": "09d9726b-69b0-4ed6-9978-8287aadd0f7d"
      },
      "execution_count": null,
      "outputs": [
        {
          "output_type": "stream",
          "name": "stdout",
          "text": [
            "The area under ROC for train set is 0.9591124337122746\n",
            "The area under ROC for test set is 0.9171929442508711\n"
          ]
        }
      ]
    },
    {
      "cell_type": "code",
      "source": [
        "predict_test.select(\"account_type\",\"prediction\").show(10)"
      ],
      "metadata": {
        "colab": {
          "base_uri": "https://localhost:8080/"
        },
        "id": "40Af5u54aN94",
        "outputId": "5c0940e5-a0a5-4f4d-b704-1d308e0813a0"
      },
      "execution_count": null,
      "outputs": [
        {
          "output_type": "stream",
          "name": "stdout",
          "text": [
            "+------------+----------+\n",
            "|account_type|prediction|\n",
            "+------------+----------+\n",
            "|           1|       1.0|\n",
            "|           1|       1.0|\n",
            "|           1|       1.0|\n",
            "|           1|       1.0|\n",
            "|           1|       1.0|\n",
            "|           1|       1.0|\n",
            "|           0|       0.0|\n",
            "|           1|       1.0|\n",
            "|           1|       1.0|\n",
            "|           1|       1.0|\n",
            "+------------+----------+\n",
            "only showing top 10 rows\n",
            "\n"
          ]
        }
      ]
    },
    {
      "cell_type": "code",
      "source": [
        "import numpy as np\n",
        "import pandas as pd\n",
        "import seaborn as sn\n",
        "import matplotlib.pyplot as plt\n",
        "\n",
        "pan = predict_test.toPandas()\n",
        "mat = pd.DataFrame(pan, columns=['account_type','prediction'])\n",
        "confusion_matrix = pd.crosstab(pan['account_type'], pan['prediction'], rownames=['Actual'], colnames=['Predicted'])\n",
        "sn.heatmap(confusion_matrix, annot=True)\n",
        "plt.show()"
      ],
      "metadata": {
        "colab": {
          "base_uri": "https://localhost:8080/",
          "height": 283
        },
        "id": "KU_476TXUITi",
        "outputId": "92e9d9ae-e9fe-4e16-efab-7804bca4b62e"
      },
      "execution_count": null,
      "outputs": [
        {
          "output_type": "display_data",
          "data": {
            "text/plain": [
              "<Figure size 432x288 with 2 Axes>"
            ],
            "image/png": "[encoded data removed]"
          },
          "metadata": {
            "needs_background": "light"
          }
        }
      ]
    },
    {
      "cell_type": "markdown",
      "metadata": {
        "id": "SztXd-vhvp_L"
      },
      "source": [
        "# Accessing user data from Twitter\n"
      ]
    },
    {
      "cell_type": "code",
      "execution_count": null,
      "metadata": {
        "id": "q3mwQWbTvp_L"
      },
      "outputs": [],
      "source": [
        "import json\n",
        "import pandas"
      ]
    },
    {
      "cell_type": "code",
      "source": [
        "jsonDF = spark.read.option(\"header\",\"true\").format(\"json\").load(\"crypto.json\")"
      ],
      "metadata": {
        "id": "IwRhzCVn1dQh"
      },
      "execution_count": null,
      "outputs": []
    },
    {
      "cell_type": "code",
      "source": [
        "jsonDF.printSchema()\n",
        "jsonDF.show()"
      ],
      "metadata": {
        "colab": {
          "base_uri": "https://localhost:8080/"
        },
        "id": "o-QUjdNNrrZ3",
        "outputId": "b9c511d1-5b11-432f-dd0d-5e65e20a2c02"
      },
      "execution_count": null,
      "outputs": [
        {
          "output_type": "stream",
          "name": "stdout",
          "text": [
            "root\n",
            " |-- _id: struct (nullable = true)\n",
            " |    |-- $oid: string (nullable = true)\n",
            " |-- description: string (nullable = true)\n",
            " |-- id: string (nullable = true)\n",
            " |-- location: string (nullable = true)\n",
            " |-- name: string (nullable = true)\n",
            " |-- profile_image_url: string (nullable = true)\n",
            " |-- public_metrics: struct (nullable = true)\n",
            " |    |-- followers_count: long (nullable = true)\n",
            " |    |-- following_count: long (nullable = true)\n",
            " |    |-- listed_count: long (nullable = true)\n",
            " |    |-- tweet_count: long (nullable = true)\n",
            " |-- username: string (nullable = true)\n",
            " |-- verified: boolean (nullable = true)\n",
            "\n",
            "+--------------------+--------------------+-------------------+--------------------+--------------------+--------------------+--------------------+---------------+--------+\n",
            "|                 _id|         description|                 id|            location|                name|   profile_image_url|      public_metrics|       username|verified|\n",
            "+--------------------+--------------------+-------------------+--------------------+--------------------+--------------------+--------------------+---------------+--------+\n",
            "|{62c6fea3f1929353...|Akıcı insanca bil...|1523278026385068035|                null|        Özgün Gürbüz|https://abs.twimg...|  {28, 49, 0, 46581}|   burcuveozgun|   false|\n",
            "|{62c6fea3f1929353...|       inexplainable|          285328602|Hillside chillin ...|               James|https://pbs.twimg...|{381, 426, 1, 14186}|Fill_ItTa_DaRim|   false|\n",
            "|{62c6fea3f1929353...|@0x_mytreasure an...|1544312647348207616|          akun wangi|       kyuu🏆freetag|https://pbs.twimg...|   {64, 189, 0, 332}|  langganansusp|   false|\n",
            "|{62c6fea3f1929353...|lets go to Mars🚀...|1325862349534687237|                null|        Abedin ❤️‍🔥|https://pbs.twimg...|{321, 4970, 17, 1...|  Crush_loyalty|   false|\n",
            "|{62c6fea3f1929353...|                Nist|1511609163763585025|                null|  Gentalman N F T ❤️|https://pbs.twimg...|     {2, 63, 0, 265}|        MShatuo|   false|\n",
            "|{62c6fea3f1929353...|https://t.co/uTyB...| 944931471432847360|         جنب آندرمدا|           kelizhdak|https://pbs.twimg...|{368, 2299, 5, 3311}|      kelizhdak|   false|\n",
            "|{62c6fea3f1929353...|#Bitcoin Crypto Y...|         2505415812|          Texas, USA|         Crypto Jack|https://pbs.twimg...|{10183, 268, 0, 1...|    Cryptozjack|   false|\n",
            "|{62c6fea3f1929353...|kegagalan adalah ...|1511418568843620354|Kembangan, Indonesia|          Win_Bean®️|https://pbs.twimg...| {40, 1837, 0, 9285}|     July_15WIN|   false|\n",
            "|{62c6fea3f1929353...|                    |         3368839402|             Turquía|           GıRGıRıN@|https://pbs.twimg...|  {94, 379, 0, 3064}|  fatih_sonses1|   false|\n",
            "|{62c6fea3f1929353...|If your cool with...| 935264168680345603|       United States|SweetBabyGus.Cryp...|https://pbs.twimg...|{1004, 3590, 12, ...|   SweetBabyGus|   false|\n",
            "|{62c6fea3f1929353...|Real Estate with ...|1395811606769115140|Upstate South Car...| Buy Felicia & Co.🏡|https://pbs.twimg...|  {379, 380, 1, 183}|   BuyfeliciaCo|   false|\n",
            "|{62c6fea3f1929353...|Join Kunci Group ...|          725627436|           Indonesia|Juliana_KunciArmy...|https://pbs.twimg...|{174, 582, 0, 12600}| OctaviaJuliana|   false|\n",
            "|{62c6fea3f1929353...|          Hunter acc|1296001825435299846|           stayville| Erye 🌿 // Free Tag|https://pbs.twimg...|{1160, 4617, 2, 4...|     hajecutiex|   false|\n",
            "|{62c6fea3f1929353...|Crypto Classic (C...|1470706577321742336|                null|             CRC FUN|https://pbs.twimg...|   {90, 174, 1, 816}|        CRCcoin|   false|\n",
            "|{62c6fea3f1929353...|#CryptoNewbie\\n#N...|1475361933867974656|          METAVERSE |        ROMARIO 🤠🤠|https://pbs.twimg...|{186, 1759, 1, 8417}|     _RONALDO75|   false|\n",
            "|{62c6fea3f1929353...|         I am father|1523368224087281671|                null|            belikeme|https://pbs.twimg...|     {1, 0, 0, 4145}|     baapdada13|   false|\n",
            "|{62c6fea3f1929353...|#Crypto news all ...|           51144918|     Bitcoiners Land|          Crypto RSS|https://pbs.twimg...|  {90, 77, 2, 28338}|   TheCryptoRss|   false|\n",
            "|{62c6fea3f1929353...|                    |1541715137098387458|                null|        Skaran Kevin|https://pbs.twimg...|     {2, 6, 0, 3225}|   skaran_kevin|   false|\n",
            "|{62c6fea3f1929353...|🚗an immature wit...|1517573425312989184|                null|    Jonathan Nevarez|https://pbs.twimg...|    {50, 101, 0, 12}|    SidneyCarl5|   false|\n",
            "|{62c6fea3f1929353...|                    |1318881962115956736|                null|            nurettin|https://pbs.twimg...| {90, 2909, 9, 7411}|      nureetin5|   false|\n",
            "+--------------------+--------------------+-------------------+--------------------+--------------------+--------------------+--------------------+---------------+--------+\n",
            "only showing top 20 rows\n",
            "\n"
          ]
        }
      ]
    },
    {
      "cell_type": "code",
      "source": [
        "selectDF = jsonDF.select('id','description','location', 'name', col('profile_image_url').alias('default_profile'),\\\n",
        "                        col('public_metrics.followers_count').cast('int').alias('followers_count'), \\\n",
        "                        col('public_metrics.following_count').cast('int').alias('friends_count'))"
      ],
      "metadata": {
        "id": "FsgfB2Nqm-2u"
      },
      "execution_count": null,
      "outputs": []
    },
    {
      "cell_type": "code",
      "source": [
        "selectDF.printSchema()\n",
        "selectDF.show(10,False)"
      ],
      "metadata": {
        "colab": {
          "base_uri": "https://localhost:8080/"
        },
        "id": "n_SmosACiw8u",
        "outputId": "b7968510-88e4-47e6-cefe-752df58e1183"
      },
      "execution_count": null,
      "outputs": [
        {
          "output_type": "stream",
          "name": "stdout",
          "text": [
            "root\n",
            " |-- id: string (nullable = true)\n",
            " |-- description: string (nullable = true)\n",
            " |-- location: string (nullable = true)\n",
            " |-- name: string (nullable = true)\n",
            " |-- default_profile: string (nullable = true)\n",
            " |-- followers_count: integer (nullable = true)\n",
            " |-- friends_count: integer (nullable = true)\n",
            "\n",
            "+-------------------+-------------------------------------------------------------------------------------------------------------------------------------------------------------+---------------------------+---------------------+------------------------------------------------------------------------------+---------------+-------------+\n",
            "|id                 |description                                                                                                                                                  |location                   |name                 |default_profile                                                               |followers_count|friends_count|\n",
            "+-------------------+-------------------------------------------------------------------------------------------------------------------------------------------------------------+---------------------------+---------------------+------------------------------------------------------------------------------+---------------+-------------+\n",
            "|1523278026385068035|Akıcı insanca biliyor.                                                                                                                                       |null                       |Özgün Gürbüz         |https://abs.twimg.com/sticky/default_profile_images/default_profile_normal.png|28             |49           |\n",
            "|285328602          |inexplainable                                                                                                                                                |Hillside chillin wit reals |James                |https://pbs.twimg.com/profile_images/1542578230267465728/V6qQJySE_normal.jpg  |381            |426          |\n",
            "|1544312647348207616|@0x_mytreasure and @0x_riskaaja got suspended 😭                                                                                                             |akun wangi                 |kyuu🏆freetag        |https://pbs.twimg.com/profile_images/1544313046226862081/5XCN_Z5j_normal.jpg  |64             |189          |\n",
            "|1325862349534687237|lets go to Mars🚀\\n\\n@pickaw pick me #CryptoPres                                                                                                             |null                       |Abedin ❤️‍🔥         |https://pbs.twimg.com/profile_images/1522577524676784128/QzeT4gX__normal.jpg  |321            |4970         |\n",
            "|1511609163763585025|Nist                                                                                                                                                         |null                       |Gentalman N F T ❤️   |https://pbs.twimg.com/profile_images/1513955604578340864/akZvEpvT_normal.jpg  |2              |63           |\n",
            "|944931471432847360 |https://t.co/uTyBmLmclD…                                                                                                                                     |جنب آندرمدا                |kelizhdak            |https://pbs.twimg.com/profile_images/1536696055525408768/OvD1ysVb_normal.jpg  |368            |2299         |\n",
            "|2505415812         |#Bitcoin Crypto YouTuber (200k SUBS) | #FOREX DAY TRADER AND INVESTOR SMC | SMART MONEY CONCEPT \"IT TAKES A DECADE TO BECOME AN OVERNIGHT SUCCESS\" Texas, USA|Texas, USA                 |Crypto Jack          |https://pbs.twimg.com/profile_images/1545035501257777152/yNS_xIlI_normal.jpg  |10183          |268          |\n",
            "|1511418568843620354|kegagalan adalah awal dari KEHANCURAN.., tetaplah jangan SEMANGAT...\\nETH\\n0xa3F85585bC52C7503b8DfF74397aF59A9521f30F                                        |Kembangan, Indonesia       |Win_Bean®️           |https://pbs.twimg.com/profile_images/1541972412316561408/X450hv9Y_normal.jpg  |40             |1837         |\n",
            "|3368839402         |                                                                                                                                                             |Turquía                    |GıRGıRıN@            |https://pbs.twimg.com/profile_images/1542500636817866752/6thqUETs_normal.jpg  |94             |379          |\n",
            "|935264168680345603 |If your cool with me, I'm cool with you.\\n\\ninterest: #Bitcoin #Finsup #Cannabis #NFTs #RenewableEnergy                                                      |United States              |SweetBabyGus.Crypto◎☀|https://pbs.twimg.com/profile_images/1487964743126110211/pzhcneri_normal.jpg  |1004           |3590         |\n",
            "+-------------------+-------------------------------------------------------------------------------------------------------------------------------------------------------------+---------------------------+---------------------+------------------------------------------------------------------------------+---------------+-------------+\n",
            "only showing top 10 rows\n",
            "\n"
          ]
        }
      ]
    },
    {
      "cell_type": "code",
      "source": [
        "finalDF = selectDF.withColumn('default_profile', \\\n",
        "                                when(selectDF.default_profile.contains('https://abs.twimg.com/sticky/default_profile_images/default_profile_normal.png'), 1)\\\n",
        "                                .otherwise(0))"
      ],
      "metadata": {
        "id": "Dtr1gMRBqfBX"
      },
      "execution_count": null,
      "outputs": []
    },
    {
      "cell_type": "code",
      "source": [
        "finalDF.printSchema()\n",
        "finalDF.show()\n",
        "finalDF.count()"
      ],
      "metadata": {
        "colab": {
          "base_uri": "https://localhost:8080/"
        },
        "id": "FF4EIFL82-ch",
        "outputId": "58943b5c-09d5-44cc-9c22-468b58338c6b"
      },
      "execution_count": null,
      "outputs": [
        {
          "output_type": "stream",
          "name": "stdout",
          "text": [
            "root\n",
            " |-- id: string (nullable = true)\n",
            " |-- description: string (nullable = true)\n",
            " |-- location: string (nullable = true)\n",
            " |-- name: string (nullable = true)\n",
            " |-- default_profile: integer (nullable = false)\n",
            " |-- followers_count: integer (nullable = true)\n",
            " |-- friends_count: integer (nullable = true)\n",
            "\n",
            "+-------------------+--------------------+--------------------+--------------------+---------------+---------------+-------------+\n",
            "|                 id|         description|            location|                name|default_profile|followers_count|friends_count|\n",
            "+-------------------+--------------------+--------------------+--------------------+---------------+---------------+-------------+\n",
            "|1523278026385068035|Akıcı insanca bil...|                null|        Özgün Gürbüz|              1|             28|           49|\n",
            "|          285328602|       inexplainable|Hillside chillin ...|               James|              0|            381|          426|\n",
            "|1544312647348207616|@0x_mytreasure an...|          akun wangi|       kyuu🏆freetag|              0|             64|          189|\n",
            "|1325862349534687237|lets go to Mars🚀...|                null|        Abedin ❤️‍🔥|              0|            321|         4970|\n",
            "|1511609163763585025|                Nist|                null|  Gentalman N F T ❤️|              0|              2|           63|\n",
            "| 944931471432847360|https://t.co/uTyB...|         جنب آندرمدا|           kelizhdak|              0|            368|         2299|\n",
            "|         2505415812|#Bitcoin Crypto Y...|          Texas, USA|         Crypto Jack|              0|          10183|          268|\n",
            "|1511418568843620354|kegagalan adalah ...|Kembangan, Indonesia|          Win_Bean®️|              0|             40|         1837|\n",
            "|         3368839402|                    |             Turquía|           GıRGıRıN@|              0|             94|          379|\n",
            "| 935264168680345603|If your cool with...|       United States|SweetBabyGus.Cryp...|              0|           1004|         3590|\n",
            "|1395811606769115140|Real Estate with ...|Upstate South Car...| Buy Felicia & Co.🏡|              0|            379|          380|\n",
            "|          725627436|Join Kunci Group ...|           Indonesia|Juliana_KunciArmy...|              0|            174|          582|\n",
            "|1296001825435299846|          Hunter acc|           stayville| Erye 🌿 // Free Tag|              0|           1160|         4617|\n",
            "|1470706577321742336|Crypto Classic (C...|                null|             CRC FUN|              0|             90|          174|\n",
            "|1475361933867974656|#CryptoNewbie\\n#N...|          METAVERSE |        ROMARIO 🤠🤠|              0|            186|         1759|\n",
            "|1523368224087281671|         I am father|                null|            belikeme|              0|              1|            0|\n",
            "|           51144918|#Crypto news all ...|     Bitcoiners Land|          Crypto RSS|              0|             90|           77|\n",
            "|1541715137098387458|                    |                null|        Skaran Kevin|              0|              2|            6|\n",
            "|1517573425312989184|🚗an immature wit...|                null|    Jonathan Nevarez|              0|             50|          101|\n",
            "|1318881962115956736|                    |                null|            nurettin|              0|             90|         2909|\n",
            "+-------------------+--------------------+--------------------+--------------------+---------------+---------------+-------------+\n",
            "only showing top 20 rows\n",
            "\n"
          ]
        },
        {
          "output_type": "execute_result",
          "data": {
            "text/plain": [
              "2910"
            ]
          },
          "metadata": {},
          "execution_count": 135
        }
      ]
    },
    {
      "cell_type": "markdown",
      "metadata": {
        "id": "GHn5pClXvp_P"
      },
      "source": [
        "## Get Bot predictions of the twitter data stored in the database"
      ]
    },
    {
      "cell_type": "code",
      "execution_count": null,
      "metadata": {
        "id": "3rz1PLEJvp_P"
      },
      "outputs": [],
      "source": [
        "def getDF(df):\n",
        "    df.createOrReplaceTempView('df')\n",
        "    return df.select(\n",
        "    'followers_count', 'friends_count', 'default_profile',\n",
        "      F.col(\"name\").cast(\"string\").contains(\"bot\").alias(\"screen_name_binary\"),\n",
        "      F.col(\"description\").cast(\"string\").contains(\"bot\").alias(\"description_name_binary\"),\\\n",
        "    ).withColumn('bot_binary', F.col('screen_name_binary') | F.col('description_name_binary')).fillna({'bot_binary':False})\\\n",
        "    .select(col('bot_binary').cast('int'), 'followers_count', 'friends_count', 'default_profile')\n"
      ]
    },
    {
      "cell_type": "code",
      "execution_count": null,
      "metadata": {
        "id": "kOJnyMbyvp_Q"
      },
      "outputs": [],
      "source": [
        "def getFeatures(train_df):\n",
        "    cols=train_df.columns\n",
        "    assembler = VectorAssembler(inputCols=cols,outputCol=\"features\")\n",
        "    train_df = assembler.transform(train_df)\n",
        "    return train_df"
      ]
    },
    {
      "cell_type": "code",
      "source": [
        "df = getDF(finalDF)\n",
        "featuresDF = getFeatures(df) \n",
        "predict = rf_model.transform(featuresDF)\n",
        "\n",
        "resultado = predict.select(\"bot_binary\", \"followers_count\", \"friends_count\", \"default_profile\", \"prediction\",\"probability\")\n",
        "resultado.createOrReplaceTempView('df')\n",
        "resultadoBot = spark.sql(\"Select count_if(prediction=1.0) as bots, count_if(prediction=0.0) as personas from df\")\n",
        "resultadoBot.show()"
      ],
      "metadata": {
        "id": "hK3fOBA6YHqJ",
        "colab": {
          "base_uri": "https://localhost:8080/"
        },
        "outputId": "178a1121-f3de-4358-ad5b-1d14fb7d242f"
      },
      "execution_count": null,
      "outputs": [
        {
          "output_type": "stream",
          "name": "stdout",
          "text": [
            "+----+--------+\n",
            "|bots|personas|\n",
            "+----+--------+\n",
            "|1006|    1904|\n",
            "+----+--------+\n",
            "\n"
          ]
        }
      ]
    },
    {
      "cell_type": "code",
      "source": [
        "resultadoPandas = resultado.toPandas()\n",
        "\n",
        "resultadoPandas['prob humano'] = resultadoPandas.probability.apply(lambda x: x[0])\n",
        "resultadoPandas['prob bot'] = resultadoPandas.probability.apply(lambda x: x[1])\n",
        "resultadoPandas.drop(columns='probability')"
      ],
      "metadata": {
        "colab": {
          "base_uri": "https://localhost:8080/",
          "height": 424
        },
        "id": "7LOphUeYuFbB",
        "outputId": "f1d9debc-491f-44a6-c89d-e8d3e8246836"
      },
      "execution_count": null,
      "outputs": [
        {
          "output_type": "execute_result",
          "data": {
            "text/plain": [
              "      bot_binary  followers_count  friends_count  default_profile  prediction  \\\n",
              "0              0               28             49                1         1.0   \n",
              "1              0              381            426                0         0.0   \n",
              "2              0               64            189                0         0.0   \n",
              "3              0              321           4970                0         0.0   \n",
              "4              0                2             63                0         1.0   \n",
              "...          ...              ...            ...              ...         ...   \n",
              "2905           0                3             25                0         1.0   \n",
              "2906           0               79            994                0         0.0   \n",
              "2907           0               36           4425                0         1.0   \n",
              "2908           0              102            265                0         0.0   \n",
              "2909           0               40            428                0         0.0   \n",
              "\n",
              "      prob humano  prob bot  \n",
              "0        0.396015  0.603985  \n",
              "1        0.876919  0.123081  \n",
              "2        0.864851  0.135149  \n",
              "3        0.610543  0.389457  \n",
              "4        0.208591  0.791409  \n",
              "...           ...       ...  \n",
              "2905     0.493177  0.506823  \n",
              "2906     0.876919  0.123081  \n",
              "2907     0.182614  0.817386  \n",
              "2908     0.864851  0.135149  \n",
              "2909     0.876919  0.123081  \n",
              "\n",
              "[2910 rows x 7 columns]"
            ],
            "text/html": [
              "\n",
              "  <div id=\"df-33616932-9775-4a8a-940f-312d997cd779\">\n",
              "    <div class=\"colab-df-container\">\n",
              "      <div>\n",
              "<style scoped>\n",
              "    .dataframe tbody tr th:only-of-type {\n",
              "        vertical-align: middle;\n",
              "    }\n",
              "\n",
              "    .dataframe tbody tr th {\n",
              "        vertical-align: top;\n",
              "    }\n",
              "\n",
              "    .dataframe thead th {\n",
              "        text-align: right;\n",
              "    }\n",
              "</style>\n",
              "<table border=\"1\" class=\"dataframe\">\n",
              "  <thead>\n",
              "    <tr style=\"text-align: right;\">\n",
              "      <th></th>\n",
              "      <th>bot_binary</th>\n",
              "      <th>followers_count</th>\n",
              "      <th>friends_count</th>\n",
              "      <th>default_profile</th>\n",
              "      <th>prediction</th>\n",
              "      <th>prob humano</th>\n",
              "      <th>prob bot</th>\n",
              "    </tr>\n",
              "  </thead>\n",
              "  <tbody>\n",
              "    <tr>\n",
              "      <th>0</th>\n",
              "      <td>0</td>\n",
              "      <td>28</td>\n",
              "      <td>49</td>\n",
              "      <td>1</td>\n",
              "      <td>1.0</td>\n",
              "      <td>0.396015</td>\n",
              "      <td>0.603985</td>\n",
              "    </tr>\n",
              "    <tr>\n",
              "      <th>1</th>\n",
              "      <td>0</td>\n",
              "      <td>381</td>\n",
              "      <td>426</td>\n",
              "      <td>0</td>\n",
              "      <td>0.0</td>\n",
              "      <td>0.876919</td>\n",
              "      <td>0.123081</td>\n",
              "    </tr>\n",
              "    <tr>\n",
              "      <th>2</th>\n",
              "      <td>0</td>\n",
              "      <td>64</td>\n",
              "      <td>189</td>\n",
              "      <td>0</td>\n",
              "      <td>0.0</td>\n",
              "      <td>0.864851</td>\n",
              "      <td>0.135149</td>\n",
              "    </tr>\n",
              "    <tr>\n",
              "      <th>3</th>\n",
              "      <td>0</td>\n",
              "      <td>321</td>\n",
              "      <td>4970</td>\n",
              "      <td>0</td>\n",
              "      <td>0.0</td>\n",
              "      <td>0.610543</td>\n",
              "      <td>0.389457</td>\n",
              "    </tr>\n",
              "    <tr>\n",
              "      <th>4</th>\n",
              "      <td>0</td>\n",
              "      <td>2</td>\n",
              "      <td>63</td>\n",
              "      <td>0</td>\n",
              "      <td>1.0</td>\n",
              "      <td>0.208591</td>\n",
              "      <td>0.791409</td>\n",
              "    </tr>\n",
              "    <tr>\n",
              "      <th>...</th>\n",
              "      <td>...</td>\n",
              "      <td>...</td>\n",
              "      <td>...</td>\n",
              "      <td>...</td>\n",
              "      <td>...</td>\n",
              "      <td>...</td>\n",
              "      <td>...</td>\n",
              "    </tr>\n",
              "    <tr>\n",
              "      <th>2905</th>\n",
              "      <td>0</td>\n",
              "      <td>3</td>\n",
              "      <td>25</td>\n",
              "      <td>0</td>\n",
              "      <td>1.0</td>\n",
              "      <td>0.493177</td>\n",
              "      <td>0.506823</td>\n",
              "    </tr>\n",
              "    <tr>\n",
              "      <th>2906</th>\n",
              "      <td>0</td>\n",
              "      <td>79</td>\n",
              "      <td>994</td>\n",
              "      <td>0</td>\n",
              "      <td>0.0</td>\n",
              "      <td>0.876919</td>\n",
              "      <td>0.123081</td>\n",
              "    </tr>\n",
              "    <tr>\n",
              "      <th>2907</th>\n",
              "      <td>0</td>\n",
              "      <td>36</td>\n",
              "      <td>4425</td>\n",
              "      <td>0</td>\n",
              "      <td>1.0</td>\n",
              "      <td>0.182614</td>\n",
              "      <td>0.817386</td>\n",
              "    </tr>\n",
              "    <tr>\n",
              "      <th>2908</th>\n",
              "      <td>0</td>\n",
              "      <td>102</td>\n",
              "      <td>265</td>\n",
              "      <td>0</td>\n",
              "      <td>0.0</td>\n",
              "      <td>0.864851</td>\n",
              "      <td>0.135149</td>\n",
              "    </tr>\n",
              "    <tr>\n",
              "      <th>2909</th>\n",
              "      <td>0</td>\n",
              "      <td>40</td>\n",
              "      <td>428</td>\n",
              "      <td>0</td>\n",
              "      <td>0.0</td>\n",
              "      <td>0.876919</td>\n",
              "      <td>0.123081</td>\n",
              "    </tr>\n",
              "  </tbody>\n",
              "</table>\n",
              "<p>2910 rows × 7 columns</p>\n",
              "</div>\n",
              "      <button class=\"colab-df-convert\" onclick=\"convertToInteractive('df-33616932-9775-4a8a-940f-312d997cd779')\"\n",
              "              title=\"Convert this dataframe to an interactive table.\"\n",
              "              style=\"display:none;\">\n",
              "        \n",
              "  <svg xmlns=\"http://www.w3.org/2000/svg\" height=\"24px\"viewBox=\"0 0 24 24\"\n",
              "       width=\"24px\">\n",
              "    <path d=\"M0 0h24v24H0V0z\" fill=\"none\"/>\n",
              "    <path d=\"M18.56 5.44l.94 2.06.94-2.06 2.06-.94-2.06-.94-.94-2.06-.94 2.06-2.06.94zm-11 1L8.5 8.5l.94-2.06 2.06-.94-2.06-.94L8.5 2.5l-.94 2.06-2.06.94zm10 10l.94 2.06.94-2.06 2.06-.94-2.06-.94-.94-2.06-.94 2.06-2.06.94z\"/><path d=\"M17.41 7.96l-1.37-1.37c-.4-.4-.92-.59-1.43-.59-.52 0-1.04.2-1.43.59L10.3 9.45l-7.72 7.72c-.78.78-.78 2.05 0 2.83L4 21.41c.39.39.9.59 1.41.59.51 0 1.02-.2 1.41-.59l7.78-7.78 2.81-2.81c.8-.78.8-2.07 0-2.86zM5.41 20L4 18.59l7.72-7.72 1.47 1.35L5.41 20z\"/>\n",
              "  </svg>\n",
              "      </button>\n",
              "      \n",
              "  <style>\n",
              "    .colab-df-container {\n",
              "      display:flex;\n",
              "      flex-wrap:wrap;\n",
              "      gap: 12px;\n",
              "    }\n",
              "\n",
              "    .colab-df-convert {\n",
              "      background-color: #E8F0FE;\n",
              "      border: none;\n",
              "      border-radius: 50%;\n",
              "      cursor: pointer;\n",
              "      display: none;\n",
              "      fill: #1967D2;\n",
              "      height: 32px;\n",
              "      padding: 0 0 0 0;\n",
              "      width: 32px;\n",
              "    }\n",
              "\n",
              "    .colab-df-convert:hover {\n",
              "      background-color: #E2EBFA;\n",
              "      box-shadow: 0px 1px 2px rgba(60, 64, 67, 0.3), 0px 1px 3px 1px rgba(60, 64, 67, 0.15);\n",
              "      fill: #174EA6;\n",
              "    }\n",
              "\n",
              "    [theme=dark] .colab-df-convert {\n",
              "      background-color: #3B4455;\n",
              "      fill: #D2E3FC;\n",
              "    }\n",
              "\n",
              "    [theme=dark] .colab-df-convert:hover {\n",
              "      background-color: #434B5C;\n",
              "      box-shadow: 0px 1px 3px 1px rgba(0, 0, 0, 0.15);\n",
              "      filter: drop-shadow(0px 1px 2px rgba(0, 0, 0, 0.3));\n",
              "      fill: #FFFFFF;\n",
              "    }\n",
              "  </style>\n",
              "\n",
              "      <script>\n",
              "        const buttonEl =\n",
              "          document.querySelector('#df-33616932-9775-4a8a-940f-312d997cd779 button.colab-df-convert');\n",
              "        buttonEl.style.display =\n",
              "          google.colab.kernel.accessAllowed ? 'block' : 'none';\n",
              "\n",
              "        async function convertToInteractive(key) {\n",
              "          const element = document.querySelector('#df-33616932-9775-4a8a-940f-312d997cd779');\n",
              "          const dataTable =\n",
              "            await google.colab.kernel.invokeFunction('convertToInteractive',\n",
              "                                                     [key], {});\n",
              "          if (!dataTable) return;\n",
              "\n",
              "          const docLinkHtml = 'Like what you see? Visit the ' +\n",
              "            '<a target=\"_blank\" href=https://colab.research.google.com/notebooks/data_table.ipynb>data table notebook</a>'\n",
              "            + ' to learn more about interactive tables.';\n",
              "          element.innerHTML = '';\n",
              "          dataTable['output_type'] = 'display_data';\n",
              "          await google.colab.output.renderOutput(dataTable, element);\n",
              "          const docLink = document.createElement('div');\n",
              "          docLink.innerHTML = docLinkHtml;\n",
              "          element.appendChild(docLink);\n",
              "        }\n",
              "      </script>\n",
              "    </div>\n",
              "  </div>\n",
              "  "
            ]
          },
          "metadata": {},
          "execution_count": 139
        }
      ]
    },
    {
      "cell_type": "code",
      "source": [
        "resultadoPandas.to_csv('cryptoResultado.csv', index=False)"
      ],
      "metadata": {
        "id": "EtU5EiH26Rl6"
      },
      "execution_count": null,
      "outputs": []
    }
  ],
  "metadata": {
    "kernelspec": {
      "display_name": "Python 3 (ipykernel)",
      "language": "python",
      "name": "python3"
    },
    "language_info": {
      "codemirror_mode": {
        "name": "ipython",
        "version": 3
      },
      "file_extension": ".py",
      "mimetype": "text/x-python",
      "name": "python",
      "nbconvert_exporter": "python",
      "pygments_lexer": "ipython3",
      "version": "3.8.11"
    },
    "colab": {
      "provenance": []
    }
  },
  "nbformat": 4,
  "nbformat_minor": 0
}