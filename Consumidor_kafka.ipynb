{
  "cells": [
    {
      "cell_type": "code",
      "execution_count": null,
      "id": "55166671",
      "metadata": {
        "id": "55166671"
      },
      "outputs": [],
      "source": [
        "from pymongo import MongoClient\n",
        "import json\n",
        "import tweepy\n",
        "from tweepy import API\n",
        "from kafka import KafkaConsumer, KafkaProducer\n",
        "from tweepy import OAuthHandler\n",
        "from tweepy import Stream"
      ]
    },
    {
      "cell_type": "code",
      "execution_count": null,
      "id": "91bdcdb1",
      "metadata": {
        "id": "91bdcdb1"
      },
      "outputs": [],
      "source": [
        "consumer = KafkaConsumer(\n",
        "    'bots',\n",
        "     bootstrap_servers=['localhost:9092'],\n",
        "     \n",
        "     auto_offset_reset='earliest',\n",
        "     enable_auto_commit=True,\n",
        "     value)"
      ]
    },
    {
      "cell_type": "code",
      "execution_count": null,
      "id": "7e432f2f",
      "metadata": {
        "id": "7e432f2f",
        "outputId": "79133b8c-12bc-4eed-8bd1-42ae7ce44fc0"
      },
      "outputs": [
        {
          "name": "stdout",
          "output_type": "stream",
          "text": [
            "Connected successfully!\n"
          ]
        }
      ],
      "source": [
        "try:\n",
        "    client = MongoClient('localhost:27017')\n",
        "    collection = client.bots.bots\n",
        "    print(\"Connected successfully!\")\n",
        "except:\n",
        "    print(\"Mongo no connection\")"
      ]
    },
    {
      "cell_type": "code",
      "execution_count": null,
      "id": "caff1394",
      "metadata": {
        "id": "caff1394"
      },
      "outputs": [],
      "source": [
        "for message in consumer:\n",
        "    message = json.loads(message.value)\n",
        "    collection.insert_one(message)"
      ]
    },
    {
      "cell_type": "code",
      "execution_count": null,
      "id": "7868ecd4",
      "metadata": {
        "id": "7868ecd4"
      },
      "outputs": [],
      "source": [
        "consumer.close()"
      ]
    }
  ],
  "metadata": {
    "kernelspec": {
      "display_name": "Python 3 (ipykernel)",
      "language": "python",
      "name": "python3"
    },
    "language_info": {
      "codemirror_mode": {
        "name": "ipython",
        "version": 3
      },
      "file_extension": ".py",
      "mimetype": "text/x-python",
      "name": "python",
      "nbconvert_exporter": "python",
      "pygments_lexer": "ipython3",
      "version": "3.8.11"
    },
    "colab": {
      "provenance": []
    }
  },
  "nbformat": 4,
  "nbformat_minor": 5
}